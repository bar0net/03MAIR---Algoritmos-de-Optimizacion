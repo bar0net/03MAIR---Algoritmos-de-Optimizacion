{
 "cells": [
  {
   "cell_type": "markdown",
   "metadata": {},
   "source": [
    "Actividad Guiada 3\n",
    "\n",
    "Jordi Tudela\n",
    "\n",
    "URL: https://github.com/bar0net/03MAIR---Algoritmos-de-Optimizacion/blob/master/AG3/JordiTudela-AG3.ipynb"
   ]
  },
  {
   "cell_type": "code",
   "execution_count": 1,
   "metadata": {},
   "outputs": [
    {
     "data": {
      "text/plain": [
       "('swiss42.tsp', <http.client.HTTPMessage at 0x22ac16105f8>)"
      ]
     },
     "execution_count": 1,
     "metadata": {},
     "output_type": "execute_result"
    }
   ],
   "source": [
    "import urllib.request\n",
    "import tsplib95\n",
    "import random\n",
    "from math import e\n",
    "\n",
    "file = \"swiss42.tsp\"\n",
    "urllib.request.urlretrieve(\"http://elib.zib.de/pub/mp-testdata/tsp/tsplib/tsp/swiss42.tsp\", file)"
   ]
  },
  {
   "cell_type": "markdown",
   "metadata": {},
   "source": [
    "## Preparación de datos"
   ]
  },
  {
   "cell_type": "code",
   "execution_count": 2,
   "metadata": {},
   "outputs": [],
   "source": [
    "problem = tsplib95.load_problem(file)\n",
    "nodos   = list(problem.get_nodes())\n",
    "aristas = list(problem.get_edges())"
   ]
  },
  {
   "cell_type": "markdown",
   "metadata": {},
   "source": [
    "## Utilidades"
   ]
  },
  {
   "cell_type": "code",
   "execution_count": 3,
   "metadata": {},
   "outputs": [],
   "source": [
    "def Factorial(n):\n",
    "    if n == 0: \n",
    "        return 0\n",
    "    \n",
    "    output = 1\n",
    "    for i in range(1, n+1):\n",
    "        output *= i\n",
    "    return output\n",
    "\n",
    "def Distancia(a,b,problem):\n",
    "    return problem.wfunc(a,b)\n",
    "\n",
    "def DistanciaTotal(recorrido, problem):\n",
    "    dst = 0\n",
    "    for a,b in zip(recorrido[:-1], recorrido[1:]):\n",
    "        dst += problem.wfunc(a,b)\n",
    "    return dst\n",
    "\n",
    "def Random(nodes):\n",
    "    solution = [0]\n",
    "    available = set(nodes) - set([0])\n",
    "    \n",
    "    for i in range(len(nodes) - 1):\n",
    "        insert = random.choice(list(available))\n",
    "        solution += [insert]\n",
    "        available.remove(insert)\n",
    "    return solution\n",
    "\n",
    "def Prob(T,d):\n",
    "    r = random.random()\n",
    "    \n",
    "    if r <= e**((-d)/(float(T))):\n",
    "        return True\n",
    "    else:\n",
    "        return False"
   ]
  },
  {
   "cell_type": "markdown",
   "metadata": {},
   "source": [
    "## Búsqueda Aleatoria"
   ]
  },
  {
   "cell_type": "code",
   "execution_count": 4,
   "metadata": {},
   "outputs": [
    {
     "name": "stdout",
     "output_type": "stream",
     "text": [
      "(5370, [0, 8, 26, 34, 18, 2, 5, 16, 38, 21, 3, 12, 31, 40, 35, 13, 4, 25, 20, 27, 32, 29, 28, 14, 41, 24, 17, 10, 9, 36, 30, 6, 1, 22, 11, 37, 39, 33, 19, 23, 7, 15])\n",
      "(5236, [0, 13, 21, 29, 5, 41, 33, 17, 9, 16, 32, 6, 28, 1, 8, 18, 15, 2, 34, 14, 40, 27, 4, 39, 38, 10, 25, 7, 22, 26, 36, 20, 3, 24, 19, 31, 23, 37, 11, 12, 35, 30])\n"
     ]
    }
   ],
   "source": [
    "def BusquedaAleatoria(nodes, problem, iterations=1000):\n",
    "    solution = Random(nodes)\n",
    "    cost = DistanciaTotal(solution, problem)\n",
    "    \n",
    "    for _ in range(iterations-1):\n",
    "        new_solution = Random(nodes)\n",
    "        new_cost = DistanciaTotal(solution, problem)\n",
    "        \n",
    "        if new_cost < cost:\n",
    "            solution, cost = new_solution, new_cost\n",
    "            \n",
    "    return cost, solution\n",
    "\n",
    "print(BusquedaAleatoria(nodos, problem))\n",
    "print(BusquedaAleatoria(nodos, problem))"
   ]
  },
  {
   "cell_type": "markdown",
   "metadata": {},
   "source": [
    "## Búsqueda Local"
   ]
  },
  {
   "cell_type": "code",
   "execution_count": 5,
   "metadata": {},
   "outputs": [
    {
     "name": "stdout",
     "output_type": "stream",
     "text": [
      "(4372, [0, 29, 21, 23, 26, 27, 28, 38, 22, 4, 8, 33, 40, 3, 15, 35, 41, 10, 20, 14, 12, 19, 39, 32, 37, 11, 13, 6, 18, 17, 31, 36, 30, 2, 25, 5, 24, 9, 7, 34, 1, 16])\n"
     ]
    }
   ],
   "source": [
    "def Vecina(solucion, problem):\n",
    "    sol = []\n",
    "    dst = float(\"Inf\")\n",
    "    m = len(solucion)\n",
    "    \n",
    "    for i in range(1,m-1):\n",
    "        for j in range(i+1,m):\n",
    "            vecina = list(solucion)\n",
    "            vecina[i], vecina[j] = vecina[j], vecina[i]\n",
    "            \n",
    "            dst_vecina = DistanciaTotal(vecina, problem)\n",
    "            if dst_vecina < dst:\n",
    "                dst, sol = dst_vecina, vecina\n",
    "    return dst, sol\n",
    "\n",
    "print(Vecina(Random(nodos), problem))"
   ]
  },
  {
   "cell_type": "code",
   "execution_count": 6,
   "metadata": {},
   "outputs": [
    {
     "name": "stdout",
     "output_type": "stream",
     "text": [
      "(4707, [0, 24, 4, 14, 17, 23, 11, 35, 36, 32, 15, 13, 29, 18, 10, 16, 8, 41, 38, 2, 20, 19, 26, 27, 34, 12, 31, 25, 21, 30, 5, 6, 37, 9, 33, 22, 28, 1, 7, 39, 3, 40])\n"
     ]
    }
   ],
   "source": [
    "# En este caso generamos vecinos intentando invertir el orden \n",
    "# de sublistas internas (de tamaño creciente) \n",
    "def VecinaInvert(solucion, problem):\n",
    "    sol = []\n",
    "    dst = float(\"Inf\")\n",
    "    m = len(solucion)\n",
    "    \n",
    "    for i in range(1,m-1):\n",
    "        for j in range(1,m-i):\n",
    "            k = j+i\n",
    "            vecina = solucion[:j] + list(reversed(solucion[j:k])) + solucion[k:]\n",
    "            \n",
    "            dst_vecina = DistanciaTotal(vecina, problem)\n",
    "            if dst_vecina < dst:\n",
    "                dst, sol = dst_vecina, vecina\n",
    "    return dst, sol\n",
    "print(VecinaInvert(Random(nodos), problem))"
   ]
  },
  {
   "cell_type": "code",
   "execution_count": 7,
   "metadata": {},
   "outputs": [
    {
     "name": "stdout",
     "output_type": "stream",
     "text": [
      "(3718, [0, 10, 31, 14, 4, 27, 5, 13, 29, 40, 9, 34, 26, 32, 6, 37, 11, 12, 1, 16, 19, 15, 36, 33, 20, 30, 8, 25, 23, 41, 21, 28, 39, 17, 22, 24, 38, 35, 2, 18, 7, 3])\n"
     ]
    }
   ],
   "source": [
    "# Igual que la solución anterior pero en lugar de realizar inversión de sublistas, realizamos\n",
    "# n permutaciones aleatorias de las sublistas (por defecto 1 permutación)\n",
    "def VecinaRandom(solucion, problem, iterations = 1):\n",
    "    sol = []\n",
    "    dst = float(\"Inf\")\n",
    "    m = len(solucion)\n",
    "    \n",
    "    for i in range(1,m-1):\n",
    "        for j in range(1,m-i):\n",
    "            for _ in range(iterations):\n",
    "                k = j+i\n",
    "                sublista = list(solucion[j:k])\n",
    "                random.shuffle(sublista)\n",
    "                vecina = solucion[:j] + sublista + solucion[k:]\n",
    "\n",
    "                dst_vecina = DistanciaTotal(vecina, problem)\n",
    "                if dst_vecina < dst:\n",
    "                    dst, sol = dst_vecina, vecina\n",
    "    return dst, sol\n",
    "print(VecinaRandom(Random(nodos), problem, 10))"
   ]
  },
  {
   "cell_type": "code",
   "execution_count": 8,
   "metadata": {},
   "outputs": [
    {
     "name": "stdout",
     "output_type": "stream",
     "text": [
      "(1358, [0, 20, 33, 34, 32, 27, 2, 28, 29, 30, 38, 22, 39, 21, 24, 40, 23, 9, 8, 41, 10, 25, 11, 12, 18, 4, 3, 1, 6, 26, 5, 13, 19, 14, 16, 15, 37, 17, 36, 35, 31, 7])\n"
     ]
    }
   ],
   "source": [
    "def BusquedaLocal(problem, iteraciones=100, gen='sample'):\n",
    "    nodos = list(problem.get_nodes())\n",
    "    sol = Random(nodos)\n",
    "    dst = float(\"Inf\")\n",
    "    \n",
    "        \n",
    "    for i in range(iteraciones):\n",
    "        if gen == 'sample':\n",
    "            new_dst, new_sol = Vecina(sol, problem)\n",
    "        elif gen == 'invert':\n",
    "            new_dst, new_sol = VecinaInvert(sol, problem)\n",
    "        elif gen == 'random':\n",
    "            new_dst, new_sol = VecinaRandom(sol, problem, 1)\n",
    "            \n",
    "        \n",
    "        if new_dst < dst:\n",
    "            sol, dst = new_sol, new_dst\n",
    "    \n",
    "    return dst, sol\n",
    "print(BusquedaLocal(problem, iteraciones=100, gen='invert'))"
   ]
  },
  {
   "cell_type": "markdown",
   "metadata": {},
   "source": [
    "## Recocido Simulado"
   ]
  },
  {
   "cell_type": "code",
   "execution_count": 9,
   "metadata": {},
   "outputs": [
    {
     "name": "stdout",
     "output_type": "stream",
     "text": [
      "(1484, [0, 2, 27, 34, 33, 20, 35, 36, 17, 31, 32, 30, 38, 22, 39, 29, 28, 6, 5, 13, 19, 14, 16, 15, 37, 7, 1, 3, 4, 26, 18, 12, 11, 25, 10, 8, 9, 21, 24, 40, 23, 41])\n"
     ]
    }
   ],
   "source": [
    "def RecocidoSimulado(problem, temperatura):\n",
    "    sol = Random(list(problem.get_nodes()))\n",
    "    dst = DistanciaTotal(sol, problem)\n",
    "    \n",
    "    ref = sol\n",
    "    ref_dst = dst\n",
    "    \n",
    "    while temperatura > 0:\n",
    "        new_dst, new_sol = Vecina(sol, problem)\n",
    "        \n",
    "        if new_dst < dst:\n",
    "            sol, dst = new_sol, new_dst\n",
    "            \n",
    "        if new_dst < ref_dst and Prob(temperatura, abs(ref_dst-new_dst)):\n",
    "            ref_sol, ref_dst = new_sol, new_dst            \n",
    "        \n",
    "        temperatura -= 1\n",
    "        \n",
    "    return dst, sol\n",
    "\n",
    "print(RecocidoSimulado(problem, 1000))"
   ]
  },
  {
   "cell_type": "markdown",
   "metadata": {},
   "source": [
    "## Metric TSP\n",
    "\n",
    "Implementar la computación de TSP usando la heurística \"Metric\". \n",
    "\n",
    "Metric TSP asegura encontrar un resultado menor o igual al doble del óptimo.\n",
    "\n",
    "**Referencia:** \n",
    "- Coursera, *Estructuras de datos y algoritmos* (https://www.coursera.org/specializations/data-structures-algorithms)\n",
    "  - Algorithms of Graphs: *Algoritmo de Prim*\n",
    "  - Advanced Algorithms and Complexity: *Metric TSP*"
   ]
  },
  {
   "cell_type": "code",
   "execution_count": 10,
   "metadata": {},
   "outputs": [
    {
     "name": "stdout",
     "output_type": "stream",
     "text": [
      "Cumple desigualdad triangular: True\n"
     ]
    }
   ],
   "source": [
    "# Metric TSP presume que el grafo completo cumple con la desigualdad triangular\n",
    "nodes = problem.get_nodes()\n",
    "\n",
    "def CheckTriangular(nodes):\n",
    "    for i in nodes:\n",
    "        for j in nodes:\n",
    "            for k in nodes:\n",
    "                if problem.wfunc(i,j) + problem.wfunc(j,k) < problem.wfunc(i,k):\n",
    "                    print(i,j,k)\n",
    "                    return False\n",
    "    return True\n",
    "print(\"Cumple desigualdad triangular:\", CheckTriangular(nodes))"
   ]
  },
  {
   "cell_type": "markdown",
   "metadata": {},
   "source": [
    "### Minimum Spannig Trees"
   ]
  },
  {
   "cell_type": "code",
   "execution_count": 11,
   "metadata": {},
   "outputs": [],
   "source": [
    "# Primero utilizamos el algoritmo de Prim para computar\n",
    "# una solución al problema MST\n",
    "def Prim(problem):\n",
    "    nodos = list(problem.get_nodes())\n",
    "    aristas = list(problem.get_edges())\n",
    "    visited = set()\n",
    "    \n",
    "    # definimos las listas de costes y padres\n",
    "    # Inicialmente, el coste de ir a cualquier nodo es infinito\n",
    "    # y todos los nodos están desconectados (no tienen padre)\n",
    "    parent = [None] * len(nodos)\n",
    "    costes = [float('Inf')] * len(nodos)\n",
    "    \n",
    "    # Elegimos un nodo inicial al azar\n",
    "    explore = [random.choice(nodos)]\n",
    "    #explore = [0]\n",
    "    costes[explore[0]] = 0\n",
    "    \n",
    "    while len(explore) > 0:\n",
    "        # Exploramos las ramas priorizando las de menor coste\n",
    "        explore = sorted(explore, key=lambda x : costes[x], reverse=True)\n",
    "        current = explore.pop(0)\n",
    "        visited.add(current)\n",
    "        \n",
    "        # Actualizamos el coste mínimo de moverse entre nodos si es necesario\n",
    "        # (y actualizamos también el padre)\n",
    "        for i, x in enumerate(nodos):\n",
    "            if x in visited:\n",
    "                continue\n",
    "            \n",
    "            dst = Distancia(current, x, problem)\n",
    "            if dst < costes[i]:\n",
    "                costes[i] = dst\n",
    "                parent[i] = current\n",
    "                \n",
    "                explore.append(x)            \n",
    "    return parent, costes, nodos\n",
    "\n",
    "# Podemos mejorar la complejidad algoritmica usando \n",
    "# min-heap para almacenar los nodos a explorar!"
   ]
  },
  {
   "cell_type": "code",
   "execution_count": 12,
   "metadata": {},
   "outputs": [],
   "source": [
    "def Cycle(graph, u, costs, prev = None):\n",
    "    path = [u]\n",
    "    \n",
    "    candidates = list(graph[u])\n",
    "    candidates = sorted(candidates, key=lambda x : costs[x], reverse=True)\n",
    "    \n",
    "    for v in candidates:\n",
    "        if v == prev:\n",
    "            continue\n",
    "        \n",
    "        path += Cycle(graph, v, costs, u) + [u]\n",
    "        \n",
    "    return path"
   ]
  },
  {
   "cell_type": "code",
   "execution_count": 13,
   "metadata": {},
   "outputs": [
    {
     "data": {
      "text/plain": [
       "2619"
      ]
     },
     "execution_count": 13,
     "metadata": {},
     "output_type": "execute_result"
    }
   ],
   "source": [
    "def MetricTSP(problem):\n",
    "    # Encontrar MST\n",
    "    parent, costs, nodos = Prim(problem)\n",
    "    \n",
    "    # Duplicar todos las aristas del MST\n",
    "    graph = {x:[] for x in nodos}\n",
    "    for p, x in zip(parent, nodos):\n",
    "        if p == None:\n",
    "            continue\n",
    "        graph[p].append(x)\n",
    "        graph[x].append(p)\n",
    "    \n",
    "    ciclo = Cycle(graph, 0, costs)\n",
    "    \n",
    "    # Generar ruta: vamos siguiendo el ciclo en orden\n",
    "    # y añadimos nodos que no estén ya en la lista\n",
    "    visited = [False] * len(nodos)\n",
    "    path = []\n",
    "    \n",
    "    while len(ciclo) > 0:\n",
    "        current = ciclo.pop(0)\n",
    "        if not visited[current]:\n",
    "            visited[current] = True\n",
    "            path.append(current)\n",
    "            \n",
    "    # DEBUG: Nos aseguramos de visitar todos los nodos\n",
    "    visited = [False] * len(list(problem.get_nodes()))\n",
    "    for p in path:\n",
    "        visited[p] = True\n",
    "        \n",
    "    for i,p in enumerate(visited):\n",
    "        if not p:\n",
    "            print(\"ERROR\")\n",
    "            \n",
    "    return path\n",
    "    \n",
    "DistanciaTotal(MetricTSP(problem), problem)"
   ]
  },
  {
   "cell_type": "markdown",
   "metadata": {},
   "source": [
    "## Algoritmo de Christofides\n",
    "\n",
    "**referencia:** R9. Approximation Algorithms: Traveling Salesman Problem (MIT OpenCourseWare, Youtube) https://www.youtube.com/watch?v=zM5MW5NKZJg"
   ]
  },
  {
   "cell_type": "code",
   "execution_count": 14,
   "metadata": {},
   "outputs": [],
   "source": [
    "def DFScount(graf, u, visited):\n",
    "    count = 1\n",
    "    visited[u] = True\n",
    "    for v in graf[u]:\n",
    "        if not visited[v]:\n",
    "            count += DFScount(graf, v, visited)\n",
    "    return count\n",
    "\n",
    "def FleuryValid(graph, u, v):\n",
    "    if len(graph[u]) == 1:\n",
    "        return True\n",
    "    \n",
    "    visited = [False]*len(graph.keys())\n",
    "    countA = DFScount(graph, u, visited)\n",
    "    \n",
    "    visited = [False]*len(graph.keys())\n",
    "    graph[u].remove(v)\n",
    "    graph[v].remove(u)\n",
    "    countB = DFScount(graph, u, visited)\n",
    "    graph[u].append(v)\n",
    "    graph[v].append(u)\n",
    "    \n",
    "    return countA <= countB\n",
    "\n",
    "def Fleury(graph, u):\n",
    "    output = []\n",
    "    candidates = list(graph[u])\n",
    "    \n",
    "    for v in candidates:\n",
    "        if v in graph[u] and FleuryValid(graph, u,v):\n",
    "            output.append(v)\n",
    "            graph[u].remove(v)\n",
    "            graph[v].remove(u)\n",
    "            output += Fleury(graph, v)  \n",
    "            \n",
    "    return output"
   ]
  },
  {
   "cell_type": "code",
   "execution_count": 15,
   "metadata": {},
   "outputs": [
    {
     "data": {
      "text/plain": [
       "2196"
      ]
     },
     "execution_count": 15,
     "metadata": {},
     "output_type": "execute_result"
    }
   ],
   "source": [
    "def Connect(graph, odds, problem):\n",
    "    # Usamos un algoritmo de poda para tratar de encontrar la colección\n",
    "    # de aristas que minimizan su peso conjunto\n",
    "    maximum = max(problem.edge_weights)\n",
    "    m = len(odds)\n",
    "    \n",
    "    # poblaremos explore con tuplas que contienen:\n",
    "    #  - cota inferios\n",
    "    #  - cota superior\n",
    "    #  - un set con todos los nodos visitados en la construcción de esa tupla\n",
    "    #  - una lista de parejas visitadas en la construcción de esa tupla\n",
    "    \n",
    "    explore = [(0, maximum * (m) / 2, set(), [] )]\n",
    "    count = 0\n",
    "    while len(explore) > 0:\n",
    "        \n",
    "        explore = sorted(explore, key=lambda x : x[1])  \n",
    "        \n",
    "        ci, cs, unique, pairs = explore.pop(0)\n",
    "        if ci == cs:\n",
    "            break\n",
    "        \n",
    "        # Encontrar el primer índice no usado\n",
    "        for idx in range(m):\n",
    "            if idx not in unique:\n",
    "                unique.add(idx)\n",
    "                break\n",
    "                \n",
    "        for i in range(m):\n",
    "            if i in unique:\n",
    "                continue\n",
    "            \n",
    "            unique.add(i)\n",
    "            cost = ci + problem.wfunc(odds[idx],odds[i])\n",
    "            explore.append( (cost, cost + maximum * (m - len(unique))/2, set(list(unique)), pairs + [(idx,i)] ) )\n",
    "            unique.remove(i)\n",
    "    \n",
    "    # como construimos la tupla con indices, debemos\n",
    "    # hacer la conversión de indice a nodo para completar\n",
    "    # el grafo\n",
    "    for i,j in pairs:\n",
    "        graph[odds[i]].append(odds[j])\n",
    "        graph[odds[j]].append(odds[i])  \n",
    "    \n",
    "    \n",
    "\n",
    "def Christofides(problem):\n",
    "    # Encontrar MST\n",
    "    parent, costs, nodos = Prim(problem)\n",
    "    \n",
    "    # Duplicar todos las aristas del MST\n",
    "    graph = {x:[] for x in nodos}\n",
    "    for p, x in zip(parent, nodos):\n",
    "        if p == None:\n",
    "            continue\n",
    "        graph[p].append(x)\n",
    "        graph[x].append(p)\n",
    "        \n",
    "    # Encontrar vertices con un número impar\n",
    "    # de aristas en el MST\n",
    "    impar = []\n",
    "    for key, value in graph.items():\n",
    "        if len(value) % 2 == 1:\n",
    "            impar.append(key)\n",
    "    \n",
    "    # Añadimos aristas\n",
    "    Connect(graph, impar, problem)\n",
    "    \n",
    "    # Buscamos un ciclo euleriano para el grafo\n",
    "    ciclo = [0] + Fleury(graph, 0)\n",
    "    \n",
    "    # Creamos un camino siguiendo el ciclo \n",
    "    # y obviando nodos ya visitados\n",
    "    visited = [False] * len(nodos)\n",
    "    path = []\n",
    "    while len(ciclo) > 0:\n",
    "        current = ciclo.pop(0)\n",
    "        if not visited[current]:\n",
    "            visited[current] = True\n",
    "            path.append(current)\n",
    "            \n",
    "    visited = [False] * len(list(problem.get_nodes()))\n",
    "    for p in path:\n",
    "        visited[p] = True\n",
    "        \n",
    "    for i,p in enumerate(visited):\n",
    "        if not p:\n",
    "            print(\"ERROR\")\n",
    "            \n",
    "    return path\n",
    "    \n",
    "DistanciaTotal(Christofides(problem), problem)"
   ]
  },
  {
   "cell_type": "code",
   "execution_count": null,
   "metadata": {},
   "outputs": [],
   "source": []
  }
 ],
 "metadata": {
  "kernelspec": {
   "display_name": "Python 3",
   "language": "python",
   "name": "python3"
  },
  "language_info": {
   "codemirror_mode": {
    "name": "ipython",
    "version": 3
   },
   "file_extension": ".py",
   "mimetype": "text/x-python",
   "name": "python",
   "nbconvert_exporter": "python",
   "pygments_lexer": "ipython3",
   "version": "3.6.5"
  }
 },
 "nbformat": 4,
 "nbformat_minor": 2
}
