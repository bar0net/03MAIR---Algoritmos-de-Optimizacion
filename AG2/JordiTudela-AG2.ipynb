{
 "cells": [
  {
   "cell_type": "markdown",
   "metadata": {},
   "source": [
    "Jordi Tudela - AG2\n",
    "\n",
    "Actividad Guiada 2\n",
    "\n",
    "URL: https://github.com/bar0net/03MAIR---Algoritmos-de-Optimizacion/blob/master/AG2/JordiTudela-AG2.ipynb"
   ]
  },
  {
   "cell_type": "markdown",
   "metadata": {},
   "source": [
    "Problema de las parejas más cercanas para 1D y 2D resulta en actividad 1: https://github.com/bar0net/03MAIR---Algoritmos-de-Optimizacion/blob/master/AG1/JordiTudela-AG1.ipynb"
   ]
  },
  {
   "cell_type": "markdown",
   "metadata": {},
   "source": [
    "## Paseo por el río"
   ]
  },
  {
   "cell_type": "code",
   "execution_count": 1,
   "metadata": {},
   "outputs": [
    {
     "name": "stdout",
     "output_type": "stream",
     "text": [
      "[[inf, 5, 4, 3, inf, inf, inf], [inf, inf, inf, 2, 3, inf, 11], [inf, inf, inf, 1, inf, 4, 10], [inf, inf, inf, inf, 5, 6, 9], [inf, inf, inf, inf, inf, inf, 4], [inf, inf, inf, inf, inf, inf, 3], [inf, inf, inf, inf, inf, inf, inf]]\n"
     ]
    }
   ],
   "source": [
    "# Para hacerme más sencilla la copia de datos, uso una lista de tuplas\n",
    "# donde se especifica en cada tupla el punto de origen, el punto de\n",
    "# destino y el coste (en ese orden)\n",
    "tarifas = [\n",
    "    (0,1,5),\n",
    "    (0,3,3),\n",
    "    (0,2,4),\n",
    "    (1,6,11),\n",
    "    (1,3,2),\n",
    "    (1,4,3),\n",
    "    (3,4,5),\n",
    "    (3,5,6),\n",
    "    (3,6,9),\n",
    "    (2,3,1),\n",
    "    (2,5,4),\n",
    "    (2,6,10),\n",
    "    (4,6,4),\n",
    "    (5,6,3)\n",
    "]\n",
    "\n",
    "matrizTarifas = [[float(\"Inf\") for _ in range(7)] for _ in range(7)]\n",
    "for i,j,v in tarifas:\n",
    "    matrizTarifas[i][j] = v\n",
    "    \n",
    "print(matrizTarifas)"
   ]
  },
  {
   "cell_type": "markdown",
   "metadata": {},
   "source": [
    "### Búsqueda por profundidad\n",
    "\n",
    "Se exploran todos los caminos del grafo entre el punto inicial y el punto final."
   ]
  },
  {
   "cell_type": "code",
   "execution_count": 2,
   "metadata": {},
   "outputs": [
    {
     "name": "stdout",
     "output_type": "stream",
     "text": [
      "65.1 µs ± 1.98 µs per loop (mean ± std. dev. of 7 runs, 10000 loops each)\n"
     ]
    },
    {
     "data": {
      "text/plain": [
       "(11, [0, 2, 5, 6])"
      ]
     },
     "execution_count": 2,
     "metadata": {},
     "output_type": "execute_result"
    }
   ],
   "source": [
    "# Depth First Search\n",
    "# PRE: El grafo definido por matrizTarifas no contiene ciclos\n",
    "def DFS_Tarifas(matrizTarifas, inicio=0, fin=6):\n",
    "    explore = [(0,[inicio])]\n",
    "    best = None\n",
    "    \n",
    "    while len(explore) > 0:\n",
    "        acc_cost, path = explore.pop(0)\n",
    "        \n",
    "        # Reached desired node and it is better than\n",
    "        # what we already found\n",
    "        if path[-1] == fin and (best == None or acc_cost < best[0]): \n",
    "            best = (acc_cost, path)\n",
    "            continue\n",
    "            \n",
    "        for i, value in enumerate(matrizTarifas[path[-1]]):\n",
    "            if value == float(\"Inf\"):\n",
    "                continue\n",
    "                \n",
    "            explore.append( (acc_cost+value, path + [i]) )\n",
    "        \n",
    "    return best\n",
    "%timeit DFS_Tarifas(matrizTarifas)\n",
    "DFS_Tarifas(matrizTarifas)"
   ]
  },
  {
   "cell_type": "markdown",
   "metadata": {},
   "source": [
    "### Búsqueda por profundidad con \"salida temprana\"\n",
    "\n",
    "Una posible mejora que podemos hacer a DFS es evitar explorar ramas que no tienen capacidad para mejorar el mejor resutrado registrado hasta ese momento."
   ]
  },
  {
   "cell_type": "code",
   "execution_count": 3,
   "metadata": {},
   "outputs": [
    {
     "name": "stdout",
     "output_type": "stream",
     "text": [
      "54.5 µs ± 1.52 µs per loop (mean ± std. dev. of 7 runs, 10000 loops each)\n"
     ]
    },
    {
     "data": {
      "text/plain": [
       "(11, [0, 2, 5, 6])"
      ]
     },
     "execution_count": 3,
     "metadata": {},
     "output_type": "execute_result"
    }
   ],
   "source": [
    "# Depth First Search with preemtive exits\n",
    "# PRE: El grafo definido por matrizTarifas no contiene ciclos\n",
    "def DFS_Tarifas2(matrizTarifas, inicio=0, fin=6):\n",
    "    explore = [(0,[inicio])]\n",
    "    best = None\n",
    "    \n",
    "    while len(explore) > 0:\n",
    "        acc_cost, path = explore.pop(0)\n",
    "        \n",
    "        # Reached desired node and it is better than\n",
    "        # what we already found\n",
    "        if path[-1] == fin and (best == None or acc_cost < best[0]): \n",
    "            best = (acc_cost, path)\n",
    "            continue\n",
    "            \n",
    "        for i, value in enumerate(matrizTarifas[path[-1]]):\n",
    "            if value == float(\"Inf\"):\n",
    "                continue\n",
    "            \n",
    "            # Avoid adding non-improving paths\n",
    "            if best == None or acc_cost+value < best[0]:\n",
    "                explore.append( (acc_cost+value, path + [i]) )\n",
    "        \n",
    "    return best\n",
    "%timeit DFS_Tarifas2(matrizTarifas)\n",
    "DFS_Tarifas2(matrizTarifas)"
   ]
  },
  {
   "cell_type": "markdown",
   "metadata": {},
   "source": [
    "### Dijkstra\n",
    "\n",
    "Dijstra nos permite refinar más el método de búsqueda guardando la distancia más corta a cada nodo explorado y recorriendo el árbol priorizando expandir las ramas cuya distancia (descubierta en ese momento) sea menor. Eso nos permite asegurar que la primera vez que alcancemos la meta, lo habremos hecho por el camino más corto.\n",
    "\n",
    "Este método tambiém admite que haya ciclos en el camino."
   ]
  },
  {
   "cell_type": "code",
   "execution_count": 4,
   "metadata": {},
   "outputs": [
    {
     "name": "stdout",
     "output_type": "stream",
     "text": [
      "37.9 µs ± 1.67 µs per loop (mean ± std. dev. of 7 runs, 10000 loops each)\n"
     ]
    },
    {
     "data": {
      "text/plain": [
       "(11, [0, 2, 5, 6])"
      ]
     },
     "execution_count": 4,
     "metadata": {},
     "output_type": "execute_result"
    }
   ],
   "source": [
    "def Dijkstra(matrizTarifas, inicio = 0, fin = 6):\n",
    "    m = len(matrizTarifas)\n",
    "    \n",
    "    pesos = [float(\"Inf\") for _ in range(m)]\n",
    "    previo = [None for _ in range(m)]\n",
    "    pesos[inicio] = 0\n",
    "    \n",
    "    explorar = [0]\n",
    "    \n",
    "    while len(explorar) > 0:\n",
    "        explorar = sorted(explorar, key = lambda x : pesos[x], reverse=True)\n",
    "        \n",
    "        current = explorar.pop(0)\n",
    "        \n",
    "        for i,x in enumerate(matrizTarifas[current]):\n",
    "            if x == float(\"Inf\"):\n",
    "                continue\n",
    "                \n",
    "            if pesos[current] + x < pesos[i]:\n",
    "                pesos[i] = pesos[current] + x\n",
    "                previo[i] = current\n",
    "                explorar.append(i)\n",
    "    \n",
    "    ruta = [fin]\n",
    "    while ruta[-1] != inicio:\n",
    "        ruta.append(previo[ruta[-1]])\n",
    "    \n",
    "    return pesos[fin], list(reversed(ruta))\n",
    "    \n",
    "%timeit Dijkstra(matrizTarifas)\n",
    "Dijkstra(matrizTarifas)"
   ]
  },
  {
   "cell_type": "markdown",
   "metadata": {},
   "source": [
    "## Asignación de Tareas\n",
    "\n",
    "Una forma sencilla y eficiente de realizar la asignación de tareas es realizar una búsqueda de profundidad evitando seguir las ramas incapaces de mejorar"
   ]
  },
  {
   "cell_type": "code",
   "execution_count": 5,
   "metadata": {},
   "outputs": [
    {
     "name": "stdout",
     "output_type": "stream",
     "text": [
      "A: job 1\n",
      "B: job 4\n",
      "C: job 2\n",
      "D: job 3\n"
     ]
    }
   ],
   "source": [
    "tareas = [[9, 2, 7, 8], [6, 4, 3, 7], [5, 8, 1, 8], [7, 6, 9, 4]]\n",
    "\n",
    "class Node:\n",
    "    def __init__(self, inferior, superior, ruta):\n",
    "        self.inferior = inferior\n",
    "        self.superior = superior\n",
    "        self.ruta = ruta\n",
    "        \n",
    "    def __gt__(self, other):\n",
    "        return self.superior > other.superior\n",
    "    \n",
    "    def __repr__(self):\n",
    "        return \"<{},{},{}>\".format(self.inferior, self.superior, self.ruta)\n",
    "\n",
    "def RyP_Tareas(tareas):\n",
    "    max_tareas = max([max(x) for x in tareas])\n",
    "    m = len(tareas)\n",
    "    best_ci = 0\n",
    "    best_cs = max_tareas*m\n",
    "    \n",
    "    explorar = [Node(best_ci, best_cs, [])]\n",
    "    best_node = None\n",
    "    \n",
    "    while len(explorar) > 0:\n",
    "        # Exploramos la rama cuya cota superior sea mayor\n",
    "        explorar = sorted(explorar, reverse=True)\n",
    "        #print(explorar)\n",
    "        \n",
    "        current = explorar.pop(0)\n",
    "        n = len(current.ruta)\n",
    "        #print(current)\n",
    "        #print()\n",
    "        \n",
    "        # Si el nodo ha explorado todo el árbol, comprobar\n",
    "        # si mejora los resultados almacenados\n",
    "        if n == m:\n",
    "            if best_node == None or current > best_node:\n",
    "                best_node = current\n",
    "            continue\n",
    "        \n",
    "        # No consideramos aquellos nodos cuya cota superior\n",
    "        # sea menor a la mejor cota inferior encontrada\n",
    "        if current.superior < best_ci:\n",
    "            continue\n",
    "            \n",
    "        for i,x in enumerate(tareas[n]):\n",
    "            if i in current.ruta:\n",
    "                continue\n",
    "            \n",
    "            ci = current.inferior + x\n",
    "            cs = ci + max_tareas * (m - n - 1)\n",
    "            ruta = current.ruta + [i]\n",
    "            \n",
    "            best_ci = max(best_ci, ci)\n",
    "            best_cs = min(best_cs, cs)\n",
    "            \n",
    "            explorar.append(Node(ci, cs, ruta))\n",
    "    \n",
    "    # Mostrar relación agente - tarea\n",
    "    for agent, task in enumerate(best_node.ruta):\n",
    "        print(\"{}: job {}\".format( chr(65+agent), task+1))\n",
    "        \n",
    "RyP_Tareas(tareas)\n",
    "\n",
    "# En el peor caso, ramificación y poda no permite eliminar de la búsqueda ninguna \n",
    "# rama y, por lo tanto, la complejidad del algoritmo es O(A+T) donde A es el \n",
    "# número de agentes y T el número de tareas (es decir, es lo mismo que realizar\n",
    "# una búsqueda por profunidad)"
   ]
  }
 ],
 "metadata": {
  "kernelspec": {
   "display_name": "Python 3",
   "language": "python",
   "name": "python3"
  },
  "language_info": {
   "codemirror_mode": {
    "name": "ipython",
    "version": 3
   },
   "file_extension": ".py",
   "mimetype": "text/x-python",
   "name": "python",
   "nbconvert_exporter": "python",
   "pygments_lexer": "ipython3",
   "version": "3.6.5"
  }
 },
 "nbformat": 4,
 "nbformat_minor": 2
}
