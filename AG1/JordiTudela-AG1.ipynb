{
 "cells": [
  {
   "cell_type": "markdown",
   "metadata": {},
   "source": [
    "# AG1 - Actividad Guiada 1\n",
    "**Jordi Tudela Alcacer**\n",
    "\n",
    "**URL:** [https://github.com/bar0net/03MAIR---Algoritmos-de-Optimizacion/tree/master/AG1](https://github.com/bar0net/03MAIR---Algoritmos-de-Optimizacion/tree/master/AG1)\n",
    "\n",
    "## Problema: Ordenación por quick sort"
   ]
  },
  {
   "cell_type": "code",
   "execution_count": 1,
   "metadata": {
    "scrolled": true
   },
   "outputs": [
    {
     "name": "stdout",
     "output_type": "stream",
     "text": [
      "[3, 53, 148, 172, 552, 719, 805, 839, 906, 1056, 1103, 1107, 1123, 1149, 1166, 1243, 1291, 1408, 1826, 1852, 1877, 1969, 2076, 2080, 2162, 2238, 2262, 2290, 2538, 2634, 2824, 2904, 2981, 3046, 3050, 3128, 3290, 3306, 3424, 3444, 3653, 3780, 3885, 3947, 4455, 4498, 4556, 4657, 4780, 4783, 4805, 4846, 5055, 5096, 5138, 5139, 5185, 5448, 5507, 5578, 5774, 5797, 5962, 5969, 6281, 6559, 6570, 6609, 6719, 6782, 6857, 6982, 7012, 7060, 7354, 7420, 7564, 7605, 7619, 7767, 7866, 7913, 7963, 8040, 8174, 8230, 8265, 8331, 8353, 8480, 8614, 8767, 8823, 8856, 9062, 9272, 9472, 9656, 9837, 9953]\n",
      "\n",
      "150 µs ± 3.29 µs per loop (mean ± std. dev. of 7 runs, 10000 loops each)\n"
     ]
    }
   ],
   "source": [
    "import random\n",
    "\n",
    "A = [random.randint(0,10000) for _ in range(100)]\n",
    "\n",
    "def quick_sort(A):\n",
    "    if len(A) <= 1:\n",
    "        return A\n",
    "    \n",
    "    if len(A) == 2:\n",
    "        return [min(A), max(A)]\n",
    "    \n",
    "    pivote = (A[0] + A[1] + A[2]) / 3\n",
    "    IZQ = []\n",
    "    DER = []\n",
    "    CENTER = []\n",
    "    \n",
    "    for i in A:\n",
    "        if i < pivote:\n",
    "            IZQ.append(i)\n",
    "        elif i == pivote:\n",
    "            CENTER.append(i)\n",
    "        else:\n",
    "            DER.append(i)\n",
    "            \n",
    "    return quick_sort(IZQ) + CENTER + quick_sort(DER)\n",
    "\n",
    "print(quick_sort(A))\n",
    "print()\n",
    "%timeit quick_sort(A)\n",
    "# quick_sort(A)"
   ]
  },
  {
   "cell_type": "markdown",
   "metadata": {},
   "source": [
    "## Bonus: Merge Sort\n",
    "\n",
    "El algoritmo de merge sort busca ordernar una colección de forma recursiva dividiendola por la mitad, ordenando cada mitad por separado y realizando una integración ordenada de ambas mitades."
   ]
  },
  {
   "cell_type": "code",
   "execution_count": 2,
   "metadata": {},
   "outputs": [
    {
     "name": "stdout",
     "output_type": "stream",
     "text": [
      "[3, 53, 148, 172, 552, 719, 805, 839, 906, 1056, 1103, 1107, 1123, 1149, 1166, 1243, 1291, 1408, 1826, 1852, 1877, 1969, 2076, 2080, 2162, 2238, 2262, 2290, 2538, 2634, 2824, 2904, 2981, 3046, 3050, 3128, 3290, 3306, 3424, 3444, 3653, 3780, 3885, 3947, 4455, 4498, 4556, 4657, 4780, 4783, 4805, 4846, 5055, 5096, 5138, 5139, 5185, 5448, 5507, 5578, 5774, 5797, 5962, 5969, 6281, 6559, 6570, 6609, 6719, 6782, 6857, 6982, 7012, 7060, 7354, 7420, 7564, 7605, 7619, 7767, 7866, 7913, 7963, 8040, 8174, 8230, 8265, 8331, 8353, 8480, 8614, 8767, 8823, 8856, 9062, 9272, 9472, 9656, 9837, 9953]\n",
      "\n",
      "311 µs ± 26.5 µs per loop (mean ± std. dev. of 7 runs, 1000 loops each)\n"
     ]
    }
   ],
   "source": [
    "import sys\n",
    "sys.setrecursionlimit(10000)\n",
    "\n",
    "def merge_sort(A):    \n",
    "    # caso elemental: si A tiene 1 elemento o ninguno,\n",
    "    # la lista está ordenada por definición\n",
    "    if len(A) <= 1:\n",
    "        return A\n",
    "    \n",
    "    # fuera del caso elemental, queremos ordenar cada una\n",
    "    # de las dos mitades de la lista por separado\n",
    "    IZQ = merge_sort(A[:len(A)//2])\n",
    "    DER = merge_sort(A[len(A)//2:])\n",
    "    \n",
    "    return merge(IZQ, DER)\n",
    "\n",
    "def merge(IZQ, DER):\n",
    "    resultado = []\n",
    "    \n",
    "    while len(IZQ) > 0 and len(DER) > 0:\n",
    "        if IZQ[0] < DER[0]:\n",
    "            resultado.append(IZQ.pop(0))\n",
    "        else:\n",
    "            resultado.append(DER.pop(0))\n",
    "            \n",
    "    return resultado + IZQ + DER\n",
    "\n",
    "print(merge_sort(A))\n",
    "print()\n",
    "%timeit merge_sort(A)\n",
    "# merge_sort(A)"
   ]
  },
  {
   "cell_type": "markdown",
   "metadata": {},
   "source": [
    "## Problema: Cambio de monedas"
   ]
  },
  {
   "cell_type": "code",
   "execution_count": 3,
   "metadata": {},
   "outputs": [
    {
     "name": "stdout",
     "output_type": "stream",
     "text": [
      "[3, 2, 0, 4]\n",
      "\n",
      "1.92 µs ± 44 ns per loop (mean ± std. dev. of 7 runs, 1000000 loops each)\n"
     ]
    }
   ],
   "source": [
    "def cambio_monedas(C, S=[25,10,5,1]):\n",
    "    i = 0\n",
    "    S = sorted(S, reverse=True)\n",
    "    m = len(S)\n",
    "    N = [0] * m\n",
    "    \n",
    "    while C > 0 and i < m:\n",
    "        if S[i] <= C:\n",
    "            N[i] += (C // S[i])\n",
    "            C -= N[i] * S[i]\n",
    "            i += 1\n",
    "        else:\n",
    "            i += 1\n",
    "            \n",
    "    return N\n",
    "\n",
    "print(cambio_monedas(99))\n",
    "print()\n",
    "%timeit cambio_monedas(99)\n",
    "            "
   ]
  },
  {
   "cell_type": "markdown",
   "metadata": {},
   "source": [
    "## Problema: Reinas"
   ]
  },
  {
   "cell_type": "code",
   "execution_count": 4,
   "metadata": {},
   "outputs": [
    {
     "name": "stdout",
     "output_type": "stream",
     "text": [
      "[0, 2, 4, 1, 3]\n",
      "\n",
      "X| | | | \n",
      "-†-†-†-†-\n",
      " | |X| | \n",
      "-†-†-†-†-\n",
      " | | | |X\n",
      "-†-†-†-†-\n",
      " |X| | | \n",
      "-†-†-†-†-\n",
      " | | |X| \n",
      "\n"
     ]
    }
   ],
   "source": [
    "N = 5\n",
    "solucion = [-1 for _ in range(N)]\n",
    "\n",
    "# Algoritmo para comprobar si una solución\n",
    "# propuesta es válida\n",
    "def Check(solucion, fila, col):\n",
    "    if col in solucion: \n",
    "        return False\n",
    "    \n",
    "    m = len(solucion)\n",
    "    for i,j in zip(range(fila,-1,-1), range(col, -1,-1)):\n",
    "        if solucion[i] == j:\n",
    "            return False\n",
    "    for i,j in zip(range(fila,m,1), range(col, -1,-1)):\n",
    "        if solucion[i] == j:\n",
    "            return False\n",
    "    \n",
    "    return True\n",
    "\n",
    "# Algoritmo de bactracking para solucionar el problema\n",
    "def Reinas(N, solucion, etapa=0):\n",
    "    if etapa >= N:\n",
    "        return True, solucion\n",
    "    \n",
    "    for i in range(N):\n",
    "        if Check(solucion, etapa, i):\n",
    "            solucion[etapa] = i\n",
    "            \n",
    "            seguir, new_solution = Reinas(N, solucion, etapa+1)\n",
    "            if seguir:\n",
    "                return True, new_solution\n",
    "            \n",
    "            solucion[etapa] = -1\n",
    "            \n",
    "    return False, solucion\n",
    "\n",
    "\n",
    "_, resultado = Reinas(N, solucion)\n",
    "print(resultado)\n",
    "print()\n",
    "\n",
    "# Función encargada de representar de una\n",
    "# forma visual el resultado del algoritmo\n",
    "def PrintSolucion(solucion):\n",
    "    m = len(solucion)\n",
    "    s = ''\n",
    "    for i in range(m):\n",
    "        for j in range(m):\n",
    "            if solucion[i] == j:\n",
    "                s += 'X|'\n",
    "            else:\n",
    "                s += ' |'\n",
    "        s = s[:-1] + '\\n'\n",
    "        \n",
    "        if i == m-1:\n",
    "            break\n",
    "        \n",
    "        for j in range(m):\n",
    "            s+='-†'\n",
    "        s = s[:-1] + '\\n'\n",
    "    print(s)\n",
    "    \n",
    "PrintSolucion(resultado)"
   ]
  },
  {
   "cell_type": "markdown",
   "metadata": {},
   "source": [
    "## Puntos más cercanos\n",
    "\n",
    "El caso 1D se vuelve trivial si consideramos una lista ordenada. Los puntos más cercanos seran aquellos dos números consecutivos diferencia sea menor.\n",
    "\n",
    "Para ordenar la lista se pueden usar algoritmos como quicksort que hemos implementado antes o, en el caso de python, podemos usar la función sorted del lenguaje que implementa Timsort (un algoritmo que combina insertion sort con merge sort y que mejora el rendimiento en los mejores casos hasta lineal y n·log(n) para el resto)."
   ]
  },
  {
   "cell_type": "code",
   "execution_count": 5,
   "metadata": {},
   "outputs": [
    {
     "name": "stdout",
     "output_type": "stream",
     "text": [
      "TEST 1: (5, 4)\n",
      "TEST 2: (9, 9)\n",
      "TEST RANDOM: (14025, 14024)\n"
     ]
    }
   ],
   "source": [
    "# Al elegir elementos aleatorios, cabe la posibilidad que haya elementos repetidos\n",
    "# cosa que dificulta testear el algoritmo. Una solución es considerar una\n",
    "# lista de valores aleatorios únicos\n",
    "LISTA_1D = list(set([random.randint(1,100000) for _ in range(1000)]))\n",
    "\n",
    "# Lo\n",
    "def Ordenar1D(lista):\n",
    "    lista = sorted(lista)\n",
    "\n",
    "    puntos = (-float('Inf'), float('Inf'))\n",
    "    for i,j in zip(lista[1:], lista[:-1]):\n",
    "        if abs(i-j) < abs(puntos[0] - puntos[1]):\n",
    "            puntos = (i,j)\n",
    "    return puntos\n",
    "\n",
    "print(\"TEST 1:\", Ordenar1D([0,2,4,5,7,9]))\n",
    "print(\"TEST 2:\", Ordenar1D([0,2,4,5,9,9]))\n",
    "print(\"TEST RANDOM:\", Ordenar1D(LISTA_1D))"
   ]
  },
  {
   "cell_type": "markdown",
   "metadata": {},
   "source": [
    "## Puntos más cercanos en 2D"
   ]
  },
  {
   "cell_type": "code",
   "execution_count": 6,
   "metadata": {},
   "outputs": [],
   "source": [
    "# Creo una classe para almacenar puntos 2D que me permite\n",
    "# definir operaciones convenientes (especialmente definir\n",
    "# un sistema de ordenación de puntos utilizando su valor\n",
    "# en x) de cara a la implementación de algoritmos.\n",
    "\n",
    "class Point:\n",
    "    def __init__(self,x,y):\n",
    "        self.x = x\n",
    "        self.y = y\n",
    "        \n",
    "    def __gt__(self, other):\n",
    "        return self.x > other.x or (self.x == other.x and self.y > other.y)\n",
    "    \n",
    "    def __eq__(self, other):\n",
    "        return self.x == other.x and self.y == other.y\n",
    "    \n",
    "    def __str__(self):\n",
    "        return \"<{}, {}>\".format(self.x, self.y)\n",
    "    \n",
    "    def __repr__(self):\n",
    "        return str(self)\n",
    "    \n",
    "    # Usaremos la distancia cuadrado para evitar tener que\n",
    "    # hacer múltiples llamadas a la función raiz cuadrada\n",
    "    # (porque es costosa y no nos aporta información útil\n",
    "    # para el algoritmo)\n",
    "    def sq_dst(self, other):\n",
    "        return (self.x-other.x)*(self.x-other.x) + (self.y-other.y)*(self.y-other.y)\n",
    "    \n",
    "    def Inverse(self):\n",
    "        self.x, self.y = self.y, self.x"
   ]
  },
  {
   "cell_type": "code",
   "execution_count": 7,
   "metadata": {},
   "outputs": [
    {
     "name": "stdout",
     "output_type": "stream",
     "text": [
      "Brute Force | distance: 1417.0991, points: <3128, 314>, <4121, 1325>\n",
      "Divide & Conquer | distance: 1417.0991, points: <3128, 314>, <4121, 1325>\n"
     ]
    }
   ],
   "source": [
    "from math import sqrt\n",
    "LISTA_2D = [Point(1122,6175), Point(135,4076), Point(7296,2741), Point(512, 1715),\n",
    "            Point(3128, 314), Point(2651, 3124), Point(4121, 1325)]\n",
    "\n",
    "# Usando BruteForce exploraremos la distacia entre todas las\n",
    "# parejas de puntos de la lista\n",
    "def BruteForce2D(lista):\n",
    "    minimum = float(\"Inf\")\n",
    "    pair = (None, None)\n",
    "    \n",
    "    m = len(lista)\n",
    "    \n",
    "    # Evitamos cálculos recurrentes empezando el segundo\n",
    "    # bucle en el índice posterior al índice del primer\n",
    "    # bucle\n",
    "    for i in range(0,m,1):\n",
    "        for j in range(i+1,m,1):\n",
    "            if lista[i].sq_dst(lista[j]) < minimum:\n",
    "                minimum = lista[i].sq_dst(lista[j])\n",
    "                pair = (lista[i], lista[j])\n",
    "                \n",
    "    return minimum, pair[0], pair[1]\n",
    "\n",
    "sq_dst, ptA, ptB = BruteForce2D(LISTA_2D)\n",
    "print(\"Brute Force | distance: {:0.4f}, points: {}, {}\".format(sqrt(sq_dst), ptA, ptB))\n",
    "\n",
    "# ==============================================\n",
    "# DIVIDE & CONQUER \n",
    "# ==============================================\n",
    "\n",
    "def DivideAndConquer2D(lista):\n",
    "    # si la lista tiene pocos miembros, usamos Brute Force\n",
    "    m = len(lista)\n",
    "    if m <= 3:\n",
    "        return BruteForce2D(lista)\n",
    "    \n",
    "    # Ordenamos la lista por orden en x\n",
    "    sort = sorted(lista)\n",
    "    \n",
    "    # Dividimos la lista en 2 mitades y calculamos\n",
    "    # la coordenada x del punto medio de las 2 listas\n",
    "    left  = sort[:m//2]\n",
    "    right = sort[m//2:]\n",
    "    \n",
    "    x_half = (sort[m//2-1].x + sort[m//2].x)/2\n",
    "    \n",
    "    # Buscamos recursivamente la distancia mínima dentro\n",
    "    # de cada una de ambas listas\n",
    "    l_dst, l_pt1, l_pt2 = DivideAndConquer2D(left)\n",
    "    r_dst, r_pt1, r_pt2 = DivideAndConquer2D(left)\n",
    "    \n",
    "    # Seleccionamos la distancia menor (y los puntos asociados)\n",
    "    if l_dst < r_dst:\n",
    "        choice_dst, choice_pt1, choice_pt2 = l_dst, l_pt1, l_pt2\n",
    "    else:\n",
    "        choice_dst, choice_pt1, choice_pt2 = r_dst, r_pt1, r_pt2\n",
    "    \n",
    "    # Ahora debemos comprobar que no hay distancias menores entre\n",
    "    # puntos que no estén en la misma lista. Para ello, lo que haremos\n",
    "    # es considerar todos los puntos que esten a una distancia menor\n",
    "    # de la vertical del punto medio que la mínima que hemos encontrado\n",
    "    consider = []\n",
    "    for pt in sort:\n",
    "        if (x_half - pt.x)*(x_half - pt.x) < choice_dst:\n",
    "            consider.append(pt)\n",
    "    \n",
    "    # Si menos de 2 puntos en la lista, devolvemos los\n",
    "    # valores encontrados\n",
    "    if len(consider) < 2:\n",
    "        return choice_dst, choice_pt1, choice_pt2\n",
    "    \n",
    "    # Ordenamos los puntos a considerar en orden de las y\n",
    "    # (Invertimos x e y de cada punto y usamos la función \n",
    "    # sorted integrada porque es más rápida)\n",
    "    for pt in consider:\n",
    "        pt.Inverse()\n",
    "    consider = sorted(consider)\n",
    "    \n",
    "    # Comprovamos si hay alguna pareja mejor en la lista\n",
    "    n = len(consider)\n",
    "    for i in range(0,n):\n",
    "        for j in range(i+1,n):\n",
    "            # Si la distancia en y entre puntos es más grande\n",
    "            # que el mínimo encontrado, pasamos a la siguiente\n",
    "            # iteración\n",
    "            if (consider[i].y - consider[j].y)**2 > choice_dst:\n",
    "                continue\n",
    "                \n",
    "            if consider[i].sq_dst(consider[j]) < choice_dst:\n",
    "                choice_dst = consider[i].sq_dst(consider[j])\n",
    "                choice_pt1 = consider[i]\n",
    "                choice_pt2 = consider[j]\n",
    "    \n",
    "    # Devolvemos el mínimo\n",
    "    choice_pt1.Inverse()\n",
    "    choice_pt2.Inverse()\n",
    "    return choice_dst, choice_pt1, choice_pt2\n",
    "\n",
    "sq_dst, ptA, ptB = DivideAndConquer2D(LISTA_2D)\n",
    "print(\"Divide & Conquer | distance: {:0.4f}, points: {}, {}\".format(sqrt(sq_dst), ptA, ptB))"
   ]
  },
  {
   "cell_type": "code",
   "execution_count": null,
   "metadata": {},
   "outputs": [],
   "source": []
  }
 ],
 "metadata": {
  "kernelspec": {
   "display_name": "Python 3",
   "language": "python",
   "name": "python3"
  },
  "language_info": {
   "codemirror_mode": {
    "name": "ipython",
    "version": 3
   },
   "file_extension": ".py",
   "mimetype": "text/x-python",
   "name": "python",
   "nbconvert_exporter": "python",
   "pygments_lexer": "ipython3",
   "version": "3.6.5"
  }
 },
 "nbformat": 4,
 "nbformat_minor": 2
}
