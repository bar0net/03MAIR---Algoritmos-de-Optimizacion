{
 "cells": [
  {
   "cell_type": "markdown",
   "metadata": {},
   "source": [
    "Seminario 1\n",
    "\n",
    "Jordi Tudela\n",
    "\n",
    "URL: https://github.com/bar0net/03MAIR---Algoritmos-de-Optimizacion/blob/master/SEMINARIO/JordiTudela-SE1.ipynb\n",
    "\n",
    "\n",
    "Ref. Plantilla: https://github.com/raul27868/03MAIR---Algoritmos-de-Optimizacion---2019/blob/master/SEMINARIO/Seminario(plantilla).ipynb"
   ]
  },
  {
   "cell_type": "markdown",
   "metadata": {},
   "source": [
    "# Combinar cifras y operaciones"
   ]
  },
  {
   "cell_type": "code",
   "execution_count": 1,
   "metadata": {},
   "outputs": [],
   "source": [
    "import random\n",
    "cifras = [x for x in range(1,10)]\n",
    "signos = ['+','-','*','/']"
   ]
  },
  {
   "cell_type": "markdown",
   "metadata": {},
   "source": [
    "## Espacio de posibilidades\n",
    "\n",
    "- Cada operación en el espacio de posibilidades tiene 5 cifras (1-9) y 4 signos (+,-,*,/)\n",
    "- Los números de no pueden repetirse\n",
    "- Los signos no pueden repetirse\n",
    "- Asumimos que la división solamente es viable si el resultado tiene resto 0 (división entera exacta)\n",
    "- Para cifras contemplamos combinaciones sin repetición de 9 elementos elige 5: $\\frac{n!}{(n-r)!}=\\frac{9!}{(9-5)!}$\n",
    "- Para signos contemplamos todas las permutaciones posibles de los 4 elementos sin repetición: $n! = 4!$\n",
    "- **El espacio de posibilidades es:** $\\frac{9!·4!}{4!}=9!$"
   ]
  },
  {
   "cell_type": "markdown",
   "metadata": {},
   "source": [
    "## Resultado máximo (Analítico)\n",
    "\n",
    "Encontrar el resultado máximo es un caso especial que puede razonarse fácilmente. Para tratar de obtener el resultado máximo podemos separar el problema en 2 segmentos distintos: primero un conjunto que tratamos de maximizar menos (segundo) un conjunto que queremos minimizar.\n",
    "\n",
    "  1. Max_Resultado = Max_Conjunto - Min_Conjunto\n",
    " \n",
    "- La operación crítica para obtener el resultado máximo es la división, por lo tanto, vamos a fijar que la división va a ser entre 1 para sacar ventaja a su elemento constante.\n",
    "- Sin el 1, el conjunto mínimo es 2/1 (o 2).\n",
    "- Para obtener el conjunto máximo partiremos de la multiplicación mayor (9*8) y añadiremos el siguiente valor mayor.\n",
    "\n",
    "  2. Max_Resultado = 9*8+7-2/1 = 77\n",
    "  \n",
    "## Resultado mínimo (Analítico)\n",
    "\n",
    "Análogamente, podemos utilizar un razonamiento parecido para obtener el resultado mínimo.\n",
    "\n",
    "  3. Min_Resultado = A + Min_Conjunto - Max_Conjunto\n",
    "  \n",
    "Dónde A y Min_Conjunto deben ser lo menor posible y Max_Conjunto debe ser lo mayor posible.\n",
    "\n",
    "- El Mayor Conjunto posible es 9*8\n",
    "- Dado que no podemos repetir números, la división menor es 2 (4/2)\n",
    "- A puede ser el número más pequeño del conjunto de cifras 1\n",
    "\n",
    "  4. Min_Resultado = 1 + 4/2 - 9*8 = -69\n",
    "\n",
    "## Fuerza Bruta"
   ]
  },
  {
   "cell_type": "code",
   "execution_count": 2,
   "metadata": {},
   "outputs": [],
   "source": [
    "# Return all combinations of a collection using DFS strategy\n",
    "def Combinations(collection, memory=[], depth=None):\n",
    "    # If collection has one item, return the item in a list\n",
    "    if len(collection) == 1:\n",
    "        return [memory + collection]\n",
    "    \n",
    "    # If we have reached max depth, return a list \n",
    "    # of each item in a list\n",
    "    if depth != None and depth <= 1:\n",
    "        return [memory + [x] for x in collection]\n",
    "    \n",
    "    output = []\n",
    "    for i,x in enumerate(collection):\n",
    "        # Get all combinations of the sublist that doesn't include\n",
    "        # the current item\n",
    "        if depth == None:\n",
    "            step = Combinations(collection[:i] + collection[i+1:], memory + [x])\n",
    "        else:\n",
    "            step = Combinations(collection[:i] + collection[i+1:], memory + [x], depth-1)\n",
    "            \n",
    "        # Prepend the current item to every combination\n",
    "        #for y in step:\n",
    "            #y.insert(0,x)\n",
    "        output += step\n",
    "    return output\n",
    "    \n",
    "        \n",
    "def BruteForce(objective, numbers, signs, num_limit = 5, sign_limit = 4):\n",
    "    sign_combinations = Combinations(signs, depth=sign_limit)\n",
    "    num_combinations  = Combinations(numbers, depth=num_limit)\n",
    "    \n",
    "    for s in sign_combinations:\n",
    "        for n in num_combinations:\n",
    "            operation = \"{}{}{}{}{}{}{}{}{}\".format(n[0], s[0], n[1], s[1], n[2], s[2], n[3], s[3], n[4])\n",
    "\n",
    "            if eval(operation) == objective:\n",
    "                return operation\n",
    "    return None\n",
    "\n",
    "\n",
    "def BruteForceAll(numbers, signs, num_limit = 5, sign_limit = 4):\n",
    "    sign_combinations = Combinations(signs, depth=sign_limit)\n",
    "    num_combinations  = Combinations(numbers, depth=num_limit)\n",
    "    operations = {}\n",
    "    \n",
    "    for s in sign_combinations:\n",
    "        for n in num_combinations:\n",
    "            operation = \"{}{}{}{}{}{}{}{}{}\".format(n[0], s[0], n[1], s[1], n[2], s[2], n[3], s[3], n[4])\n",
    "            value = eval(operation)\n",
    "            \n",
    "            if value%1 != 0:\n",
    "                continue\n",
    "            \n",
    "            if value in operations.keys():\n",
    "                continue\n",
    "            operations[value] = operation\n",
    "    return operations"
   ]
  },
  {
   "cell_type": "code",
   "execution_count": 3,
   "metadata": {},
   "outputs": [],
   "source": [
    "operations = BruteForceAll(cifras, signos)"
   ]
  },
  {
   "cell_type": "code",
   "execution_count": 4,
   "metadata": {},
   "outputs": [
    {
     "name": "stdout",
     "output_type": "stream",
     "text": [
      "Minimum result: -69 = 1+4/2-8*9\n",
      "Maximum result:  77 = 7+8*9-2/1\n",
      "Contains all integers in-between: True\n"
     ]
    }
   ],
   "source": [
    "min_value = int(min(operations.keys()))\n",
    "max_value = int(max(operations.keys()))\n",
    "\n",
    "print(\"Minimum result:\", min_value, \"=\", operations[min_value])\n",
    "print(\"Maximum result: \", max_value, \"=\", operations[max_value])\n",
    "print(\"Contains all integers in-between:\", all([x in operations.keys() for x in range(min_value, max_value+1)]))"
   ]
  },
  {
   "cell_type": "code",
   "execution_count": 5,
   "metadata": {},
   "outputs": [
    {
     "name": "stdout",
     "output_type": "stream",
     "text": [
      "132 ms ± 22.4 ms per loop (mean ± std. dev. of 7 runs, 10 loops each)\n",
      "Test: -41.0 = 2+5-6*8/1\n"
     ]
    }
   ],
   "source": [
    "%timeit BruteForce(random.randint(-69,77), cifras, signos)\n",
    "sol = BruteForce(random.randint(-69,77), cifras, signos)\n",
    "print(\"Test:\", eval(sol), \"=\", sol)"
   ]
  },
  {
   "cell_type": "markdown",
   "metadata": {},
   "source": [
    "El algoritmo de Fuerza Bruta se compone de dos recorridos DFS con orden $O(n!)$ y un doble recorrido para generar todas las combinaciones con orden $O(n^2)$. Así, el algoritmo de Fuerza Bruta es $O(n!)$"
   ]
  },
  {
   "cell_type": "markdown",
   "metadata": {},
   "source": [
    "## Poda\n",
    "\n",
    "Como hemos visto en el razonamiento analítico del máximo y el mínimo, este problema nos presenta con, básicamente, una operación con 3 términos:\n",
    "\n",
    "5. {Resultado = A - D + M} ó {Resultado = A + D - M} \n",
    "\n",
    "Podemos acotar el rango de cada uno de los términos:\n",
    "\n",
    "- Rango(A) = [1,9]\n",
    "- Rango(D) = [2,9]\n",
    "- Rango(M) = [2,72]\n",
    "\n",
    "Para resolver el problema exploraremos las ramas de un arbol con tres niveles tratando de podar prematuramente el mayor número de ramas posible. \n",
    "\n",
    "Para ello, en el primer nivel exploraremos el término multiplicativo porqué tiene el rango de valores mayor (de esta forma podemos contener mejor las cotas). \n",
    "\n",
    "En segundo lugar, buscaremos términos división viables.\n",
    "\n",
    "M y D fijan el mayor número de cifras y el signo, así que el último paso es identificar si el término independiente está disponible.\n",
    "\n",
    "### Complejidad\n",
    "\n",
    "La complejidad algoritmica del modelo viene dada por las tablas de multiplicación y división (complejidad $O(n^2)$ ya que la poda nos permite eliminar gran parte de los caminos (aunque no es trivial).\n",
    "\n",
    "Poda:\n",
    "  - El nivel de multiplicación permite una distancia entre cotas de 15\n",
    "  - El nivel de división permite una distancia entre cotas de 10\n",
    "  - La ordenación nos permite llegar a un resultado correcto más rápido (generalmente)\n",
    "  - **La construcción de las tablas domina la complejidad algoritmica**"
   ]
  },
  {
   "cell_type": "code",
   "execution_count": 6,
   "metadata": {},
   "outputs": [
    {
     "name": "stdout",
     "output_type": "stream",
     "text": [
      "Test: -30.0 = 6-5*8+4/1\n"
     ]
    }
   ],
   "source": [
    "def Podar(n, numbers, signs):\n",
    "    # nos creamos un dict con todas las multiplicaciones posibles\n",
    "    # y otro dict con todas las divisiones posibles\n",
    "    \n",
    "    Mul = {}\n",
    "    Div = {}\n",
    "    \n",
    "    for i,x in enumerate(numbers):\n",
    "        for y in numbers[i+1:]:\n",
    "            if x*y in Mul.keys():\n",
    "                Mul[x*y].append( (x,y) )\n",
    "            else:\n",
    "                Mul[x*y] = [(x,y)]\n",
    "            \n",
    "            if y%x != 0:\n",
    "                continue\n",
    "            \n",
    "            if y//x in Div.keys():\n",
    "                Div[y//x].append( (y,x) )\n",
    "            else:\n",
    "                Div[y//x] = [(y,x)]\n",
    "    \n",
    "    explore = []\n",
    "    for m, factors in Mul.items():\n",
    "        for f1,f2 in factors:\n",
    "            # Conjunto multiplicación positivo\n",
    "            # La cota inferior será M - max(D) + min(A) = M - 9 + 1 = M-8\n",
    "            # La cota superior será M - min(D) + max(A) = M - 2 + 9 = M+7\n",
    "            ci = m - 8\n",
    "            cs = m + 7\n",
    "\n",
    "            if n < ci or n > cs:\n",
    "                continue\n",
    "            explore.append( (ci, cs, [f1, f2], 1) )\n",
    "    \n",
    "        for f1,f2 in factors:\n",
    "            # Conjunto multiplicación negativo\n",
    "            # La cota inferior será - M + min(D) + min(A) = - M + 2 + 1 = M+3\n",
    "            # La cota superior será - M + max(D) + max(A) = - M + 9 + 9 = M+18\n",
    "            ci = -m + 3\n",
    "            cs = -m + 18\n",
    "            \n",
    "            if n < ci or n > cs:\n",
    "                continue\n",
    "            explore.append( (ci, cs, [f1, f2], -1) )\n",
    "\n",
    "    \n",
    "    while len(explore) > 0:\n",
    "        # Reordenamos el conjunto de nodos para priorizar aquellos cuya media\n",
    "        # entre la cota inferior y la cota superior esté más cerca del objetivo\n",
    "        explore = sorted(explore, key=lambda x : abs(x[0]+x[1]-2*n) )\n",
    "        current = explore.pop(0)\n",
    "        \n",
    "        # Si el número de elementos almacenados es 2 (los dos factores de la multiplicación)\n",
    "        # abordamos el segundo nivel del árbol, la división\n",
    "        if len(current[2]) == 2:\n",
    "            value = current[3]*current[2][0]*current[2][1]\n",
    "                \n",
    "            for d, factors in Div.items():\n",
    "                for d1, d2 in factors:\n",
    "                    if d1 in current[2] or d2 in current[2]:\n",
    "                        continue\n",
    "                    \n",
    "                    ci = value - current[3]*d + 1\n",
    "                    cs = value - current[3]*d + 9\n",
    "                    \n",
    "                    if n < ci or n > cs:\n",
    "                        continue\n",
    "                        \n",
    "                    explore.append((ci,cs,[current[2][0], current[2][1], d1, d2], current[3]))\n",
    "        \n",
    "        # Si hay 4 elementos en la lista, solamente nos queda determinar el término\n",
    "        # independiente\n",
    "        elif len(current[2]) == 4:\n",
    "            value = current[3]*current[2][0]*current[2][1] - current[3]*current[2][2]/current[2][3] \n",
    "            \n",
    "            x = int(n - value)\n",
    "            if x not in current[2]:\n",
    "                return \"{}+{}*{}+{}/{}\".format(x,current[3]*current[2][0],current[2][1],\n",
    "                                               -current[3]*current[2][2],current[2][3]).replace(\"+-\",\"-\")\n",
    "        \n",
    "    return '0'\n",
    "    \n",
    "    \n",
    "solution = Podar(-30, cifras, signos)\n",
    "print(\"Test:\", eval(solution), \"=\", solution)"
   ]
  },
  {
   "cell_type": "code",
   "execution_count": 7,
   "metadata": {},
   "outputs": [
    {
     "name": "stdout",
     "output_type": "stream",
     "text": [
      "63.1 µs ± 1 µs per loop (mean ± std. dev. of 7 runs, 10000 loops each)\n"
     ]
    }
   ],
   "source": [
    "%timeit Podar(random.randint(-69,77), cifras, signos)"
   ]
  },
  {
   "cell_type": "code",
   "execution_count": null,
   "metadata": {},
   "outputs": [],
   "source": []
  }
 ],
 "metadata": {
  "kernelspec": {
   "display_name": "Python 3",
   "language": "python",
   "name": "python3"
  },
  "language_info": {
   "codemirror_mode": {
    "name": "ipython",
    "version": 3
   },
   "file_extension": ".py",
   "mimetype": "text/x-python",
   "name": "python",
   "nbconvert_exporter": "python",
   "pygments_lexer": "ipython3",
   "version": "3.6.5"
  }
 },
 "nbformat": 4,
 "nbformat_minor": 2
}
