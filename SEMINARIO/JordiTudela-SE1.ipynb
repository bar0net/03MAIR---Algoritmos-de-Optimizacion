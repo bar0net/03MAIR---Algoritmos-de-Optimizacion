{
 "cells": [
  {
   "cell_type": "markdown",
   "metadata": {},
   "source": [
    "**ref:** https://github.com/raul27868/03MAIR---Algoritmos-de-Optimizacion---2019/blob/master/SEMINARIO/Seminario(plantilla).ipynb"
   ]
  },
  {
   "cell_type": "code",
   "execution_count": null,
   "metadata": {},
   "outputs": [],
   "source": []
  },
  {
   "cell_type": "code",
   "execution_count": 2,
   "metadata": {},
   "outputs": [],
   "source": [
    "cifras = [x for x in range(1,10)]\n",
    "signos = ['+','-','*','/']"
   ]
  },
  {
   "cell_type": "markdown",
   "metadata": {},
   "source": [
    "## Espacio de posibilidades\n",
    "\n",
    "- Cada operación en el espacio de posibilidades tiene 5 cifras (1-9) y 4 signos (+,-,*,/)\n",
    "- Los números de no pueden repetirse\n",
    "- Los signos no pueden repetirse\n",
    "- Asumimos que la división solamente es viable si el resultado tiene resto 0 (división entera exacta)\n",
    "- Para cifras contemplamos combinaciones sin repetición de 9 elementos elige 5: $\\frac{n!}{(n-r)!}=\\frac{9!}{(9-5)!}$\n",
    "- Para signos contemplamos todas las permutaciones posibles de los 4 elementos sin repetición: $n! = 4!$\n",
    "- **El espacio de posibilidades es:** $\\frac{9!·4!}{4!}=9!$"
   ]
  },
  {
   "cell_type": "markdown",
   "metadata": {},
   "source": [
    "## Resultado máximo (Analítico)\n",
    "\n",
    "Encontrar el resultado máximo es un caso especial que puede razonarse fácilmente. Para tratar de obtener el resultado máximo podemos separar el problema en 2 segmentos distintos: primero un conjunto que tratamos de maximizar menos (segundo) un conjunto que queremos minimizar.\n",
    "\n",
    "  1. Max_Resultado = Max_Conjunto - Min_Conjunto\n",
    " \n",
    "- La operación crítica para obtener el resultado máximo es la división, por lo tanto, vamos a fijar que la división va a ser entre 1 para sacar ventaja a su elemento constante.\n",
    "- Sin el 1, el conjunto mínimo es 2/1 (o 2).\n",
    "- Para obtener el conjunto máximo partiremos de la multiplicación mayor (9*8) y añadiremos el siguiente valor mayor.\n",
    "\n",
    "  2. Max_Resultado = 9*8+7-2/1 = 77\n",
    "  \n",
    "## Resultado mínimo (Analítico)\n",
    "\n",
    "Análogamente, podemos utilizar un razonamiento parecido para obtener el resultado mínimo.\n",
    "\n",
    "  3. Min_Resultado = A + Min_Conjunto - Max_Conjunto\n",
    "  \n",
    "Dónde A y Min_Conjunto deben ser lo menor posible y Max_Conjunto debe ser lo mayor posible.\n",
    "\n",
    "- El Mayor Conjunto posible es 9*8\n",
    "- Dado que no podemos repetir números, la división menor es 2 (4/2)\n",
    "- A puede ser el número más pequeño del conjunto de cifras 1\n",
    "\n",
    "  4. Min_Resultado = 1 + 4/2 - 9*8 = -69\n",
    "\n",
    "## Fuerza Bruta"
   ]
  },
  {
   "cell_type": "code",
   "execution_count": 49,
   "metadata": {},
   "outputs": [],
   "source": [
    "# Return all combinations of a collection using DFS strategy\n",
    "def Combinations(collection, memory=[], depth=None):\n",
    "    # If collection has one item, return the item in a list\n",
    "    if len(collection) == 1:\n",
    "        return [memory + collection]\n",
    "    \n",
    "    # If we have reached max depth, return a list \n",
    "    # of each item in a list\n",
    "    if depth != None and depth <= 1:\n",
    "        return [memory + [x] for x in collection]\n",
    "    \n",
    "    output = []\n",
    "    for i,x in enumerate(collection):\n",
    "        # Get all combinations of the sublist that doesn't include\n",
    "        # the current item\n",
    "        if depth == None:\n",
    "            step = Combinations(collection[:i] + collection[i+1:], memory + [x])\n",
    "        else:\n",
    "            step = Combinations(collection[:i] + collection[i+1:], memory + [x], depth-1)\n",
    "            \n",
    "        # Prepend the current item to every combination\n",
    "        #for y in step:\n",
    "            #y.insert(0,x)\n",
    "        output += step\n",
    "    return output\n",
    "    \n",
    "        \n",
    "def BruteForce(objective, numbers, signs, num_limit = 5, sign_limit = 4):\n",
    "    sign_combinations = Combinations(signs, depth=sign_limit)\n",
    "    num_combinations  = Combinations(numbers, depth=num_limit)\n",
    "    \n",
    "    for s in sign_combinations:\n",
    "        for n in num_combinations:\n",
    "            operation = \"{}{}{}{}{}{}{}{}{}\".format(n[0], s[0], n[1], s[1], n[2], s[2], n[3], s[3], n[4])\n",
    "\n",
    "            if eval(operation) == objective:\n",
    "                return operation\n",
    "    return None\n",
    "\n",
    "\n",
    "def BruteForceAll(numbers, signs, num_limit = 5, sign_limit = 4):\n",
    "    sign_combinations = Combinations(signs, depth=sign_limit)\n",
    "    num_combinations  = Combinations(numbers, depth=num_limit)\n",
    "    operations = {}\n",
    "    \n",
    "    for s in sign_combinations:\n",
    "        for n in num_combinations:\n",
    "            operation = \"{}{}{}{}{}{}{}{}{}\".format(n[0], s[0], n[1], s[1], n[2], s[2], n[3], s[3], n[4])\n",
    "            value = eval(operation)\n",
    "            \n",
    "            if value%1 != 0:\n",
    "                continue\n",
    "            \n",
    "            if value in operations.keys():\n",
    "                continue\n",
    "            operations[value] = operation\n",
    "    return operations"
   ]
  },
  {
   "cell_type": "code",
   "execution_count": 46,
   "metadata": {},
   "outputs": [],
   "source": [
    "BruteForce(78, cifras, signos)"
   ]
  },
  {
   "cell_type": "code",
   "execution_count": 51,
   "metadata": {},
   "outputs": [],
   "source": [
    "operations = BruteForceAll(cifras, signos)"
   ]
  },
  {
   "cell_type": "code",
   "execution_count": 59,
   "metadata": {},
   "outputs": [
    {
     "name": "stdout",
     "output_type": "stream",
     "text": [
      "Minimum result: -69 = 1+4/2-8*9\n",
      "Maximum result:  77 = 7+8*9-2/1\n",
      "Contains all integers in-between: True\n"
     ]
    }
   ],
   "source": [
    "min_value = int(min(operations.keys()))\n",
    "max_value = int(max(operations.keys()))\n",
    "\n",
    "print(\"Minimum result:\", min_value, \"=\", operations[min_value])\n",
    "print(\"Maximum result: \", max_value, \"=\", operations[max_value])\n",
    "print(\"Contains all integers in-between:\", all([x in operations.keys() for x in range(min_value, max_value+1)]))"
   ]
  },
  {
   "cell_type": "markdown",
   "metadata": {},
   "source": [
    "El algoritmo de Fuerza Bruta se compone de dos recorridos DFS con orden $O(n!)$ y un doble recorrido para generar todas las combinaciones con orden $O(n^2)$. Así, el algoritmo de Fuerza Bruta es $O(n!)$"
   ]
  },
  {
   "cell_type": "markdown",
   "metadata": {},
   "source": [
    "## Refinar\n",
    "\n",
    "Como hemos visto en el razonamiento analítico del máximo y el mínimo, este problema nos presenta con, básicamente, una operación con 3 términos:\n",
    "\n",
    "5. {Resultado = A - D + M} ó {Resultado = A + D - M} \n",
    "\n",
    "En este caso, podemos considerar A como el sesgo inicial, D es el término de la división y M es el término de la multiplicación.\n",
    "\n",
    "Así, el problema se reduce a encontrar una combinación de 3 términos."
   ]
  },
  {
   "cell_type": "code",
   "execution_count": 60,
   "metadata": {},
   "outputs": [
    {
     "name": "stdout",
     "output_type": "stream",
     "text": [
      "[(-72, 81, [])]\n"
     ]
    }
   ],
   "source": [
    "def Refinado(n, numbers, signs):\n",
    "    # nos creamos un dict con todas las multiplicaciones posibles\n",
    "    # y otro dict con todas las divisiones posibles\n",
    "    \n",
    "    Mul = {}\n",
    "    Div = {}\n",
    "    \n",
    "    for i,x in enumerate(numbers):\n",
    "        for y in numbers[i+1:]:\n",
    "            if x*y in Mul.keys():\n",
    "                Mul[x*y].append( (x,y) )\n",
    "            else:\n",
    "                Mul[x*y] = [(x,y)]\n",
    "                \n",
    "            if x%y == 0 and x/y in Div.keys():\n",
    "                Div[x//y].append( (x,y) )\n",
    "            else:\n",
    "                Div[x//y] = [(x,y)]\n",
    "                \n",
    "    # Poda:\n",
    "    # Partiendo de la propiedad commutativa de la suma,\n",
    "    # fijamos la estructura a A +/- D -/+ M.\n",
    "    # Es decir, generaremos el árbol por orden: sesgo, división, multiplicación\n",
    "    \n",
    "    # Usaremos tuplas con el formato (cota_inferior, cota_superior, conjunto_numeros)\n",
    "    explore = [(min(Div.keys()) - max(Mul.keys()), 9 - min(Div.keys()) + max(Mul.keys()), [])]\n",
    "    print(explore)\n",
    "Refinado(0, cifras, signos)"
   ]
  },
  {
   "cell_type": "code",
   "execution_count": null,
   "metadata": {},
   "outputs": [],
   "source": []
  }
 ],
 "metadata": {
  "kernelspec": {
   "display_name": "Python 3",
   "language": "python",
   "name": "python3"
  },
  "language_info": {
   "codemirror_mode": {
    "name": "ipython",
    "version": 3
   },
   "file_extension": ".py",
   "mimetype": "text/x-python",
   "name": "python",
   "nbconvert_exporter": "python",
   "pygments_lexer": "ipython3",
   "version": "3.6.6"
  }
 },
 "nbformat": 4,
 "nbformat_minor": 2
}
