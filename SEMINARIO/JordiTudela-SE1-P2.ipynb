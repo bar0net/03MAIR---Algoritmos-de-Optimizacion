{
 "cells": [
  {
   "cell_type": "markdown",
   "metadata": {},
   "source": [
    "**Seminario 1 - Problema 2**\n",
    "\n",
    "Jordi Tudela\n",
    "\n",
    "URL: https://github.com/bar0net/03MAIR---Algoritmos-de-Optimizacion/blob/master/SEMINARIO/JordiTudela-SE1-P2.ipynb\n",
    "\n",
    "\n",
    "Ref. Plantilla: https://github.com/raul27868/03MAIR---Algoritmos-de-Optimizacion---2019/blob/master/SEMINARIO/Seminario(plantilla).ipynb"
   ]
  },
  {
   "cell_type": "markdown",
   "metadata": {},
   "source": [
    "# Organizar los horarios de partidos de La Liga"
   ]
  },
  {
   "cell_type": "markdown",
   "metadata": {},
   "source": [
    "**Posibilidades sin restricciones:** \n",
    "\n",
    "- 10 partidos\n",
    "- 10 horarios\n",
    "- En cada uno de los horarios disponibles, se pueden jugar los 10 partidos\n",
    "- Posibilidades: $10^{10}$\n",
    "\n",
    "**Posibilidades con restricciones:**\n",
    "\n",
    "- 10 partidos\n",
    "- 10 horarios\n",
    "- 1 partido obligatorio en viernes: 10 posibles partidos\n",
    "- 1 partido obligatorio en lunes: 9 posibles partidos restantes\n",
    "- No se especifica que deba haber partidos en sábado o domingo en la definición del problema\n",
    "- Cada uno de los 8 partidos restantes pueden caer en cualquier de los 10 horarios disponibles: $8^{10}$\n",
    "- Posibilidades: $10*9*8^{10}$\n",
    "\n",
    "\n",
    "**Estructura de datos:**\n",
    "\n",
    "- Lista ordenada con todos los partidos de la jornada (P) representado por las 2 letras de la categoría de los dos equipos\n",
    "- Lista ordenada con el horario asignado (H)\n",
    "\n",
    "*Así, el partido con índice 0 jugará en el horario con índice 0*\n",
    "\n",
    "Razonamiento: Es la estructura más compacta posible que nos permite definir la solución.\n",
    "\n",
    "**Objetivo Inicial:**\n",
    "\n",
    "$\\sum_{h=0}^9 Ratio(H_h) * \\frac{Juega_{h,p}*Puntos(P_p)*Audiencia(P_p)}{\\sum_{p=0}^{n} Juega_{h,p}*Puntos(P_p)}$\n",
    "\n",
    "- $H_i$ es el horario con índice \n",
    "- $P_i$ es partido con índice i\n",
    "- Juega(h,p) devuelve 1 si el Partido p se juega en el Horario h, si no devuelve 0\n",
    "- Puntos(P) devuelve la suma de los puntos de ambos equipos (4 por equipo A, 2 por equipo B y 1 por equipo C)\n"
   ]
  },
  {
   "cell_type": "markdown",
   "metadata": {},
   "source": [
    "**Analisis:**\n",
    "\n",
    "*Lemma:* Dados los parametros del problema, el óptimo evitará coincidencias horarias.\n",
    "\n",
    "- Supongamos dos partidos: P y Q\n",
    "- Supongamos que la audiencia de P ($A_p$) $\\geqslant$ audiencia de Q ($A_q$)\n",
    "- Así, los puntos asociados al partido P ($P_p$) $\\geqslant$ los puntos asociados a Q ($P_q$)\n",
    "- Supongamos dos ratios arbitrarios 0 < S < R $\\leqslant$ 1\n",
    "- Comparamos asignar P en horario en alta audiencia (R) y Q en baja audiencia (S) con asignar ambos en alta audiencia.\n",
    "\n",
    "$\\frac{R·P_p·A_p}{P_p}+\\frac{S·P_q·A_q}{P_q} = R·A_p+S·A_q \\geqslant R · \\frac{P_p·max(A_p,A_q)+P_q·max(A_p,A_q)}{P_p+P_q}$\n",
    "\n",
    "$R·A_p+S·A_q \\geqslant R · \\frac{P_p·A_p+P_q·A_p}{P_p+P_q} = R · A_p · \\frac{P_p+P_q}{P_p+P_q} = R · A_p$\n",
    "\n",
    "Finalmente es obvio que asignar ambos partidos en alta audiencia en lugar de en baja audiencia proporciona cifras mayores.\n",
    "\n",
    "$R·A_p+S·A_q \\geqslant R · A_p \\geqslant S · A_p$\n",
    "\n",
    "Así, se demuestra que es prioritario llenar todas las franjas horarias. Dicho de otro modo, el óptimo con 10 partidos y 10 horarios asignará 1 único partido por horario (y eso nos permite simplificar cálculos)\n",
    "\n",
    "** Objetivo: **\n",
    "\n",
    "$max\\sum_{i=0}^{9}Ratio(H_{i})*Audiencia(P_{i})$\n",
    "\n",
    "- $H_i$ es el horario con índice \n",
    "- $P_i$ es partido con índice i\n",
    "\n",
    "Al tener un reparto desigual de la audiencia en horarios dónde coinciden partidos:"
   ]
  },
  {
   "cell_type": "markdown",
   "metadata": {},
   "source": [
    "## Funciones de Soporte"
   ]
  },
  {
   "cell_type": "code",
   "execution_count": 1,
   "metadata": {},
   "outputs": [],
   "source": [
    "#             AA   AB   AC  BA   BB    BC   CA    CB    CC\n",
    "AUDIENCIA = [2.0, 1.3, 1.0, 1.3, 0.9, 0.75, 1.0, 0.75, 0.47]\n",
    "RATIOS = { 'V20' : 0.4, \n",
    "           'S12' : 0.55, 'D12' : 0.45,\n",
    "           'S16' : 0.7,  'D16' : 0.75,\n",
    "           'S18' : 0.8,  'D18' : 0.85,\n",
    "           'S20' : 1.0,  'D20' : 1.0,   'L20': 0.4}\n",
    "POINTS = [4, 2, 1]\n",
    "\n",
    "def MatchValue(x):\n",
    "    i = ord(x[0]) - 65\n",
    "    j = ord(x[1]) - 65\n",
    "    \n",
    "    return AUDIENCIA[3*i+j]\n",
    "\n",
    "def PointValue(x):\n",
    "    return POINTS[ord(x[0])-65]+POINTS[ord(x[1])-65]\n",
    "\n",
    "def SolutionValue(P, H):\n",
    "    dict_horario = {x:[] for x in RATIOS.keys()}\n",
    "    for p,h in zip(P,H):\n",
    "        dict_horario[h].append(p)\n",
    "        \n",
    "    count = 0\n",
    "    for h, partidos in dict_horario.items():\n",
    "        if len(partidos) == 0:\n",
    "            continue\n",
    "        \n",
    "        count_h = 0\n",
    "        total_h = 0\n",
    "        max_value = 0\n",
    "        for p in partidos:\n",
    "            total_h += PointValue(p)\n",
    "            if max_value < MatchValue(p):\n",
    "                max_value = MatchValue(p)\n",
    "            \n",
    "        for p in partidos:\n",
    "            count_h += max_value * PointValue(p)\n",
    "        count += RATIOS[h] * count_h / total_h\n",
    "    \n",
    "    return count"
   ]
  },
  {
   "cell_type": "code",
   "execution_count": 2,
   "metadata": {},
   "outputs": [
    {
     "name": "stdout",
     "output_type": "stream",
     "text": [
      "6.515000000000001\n"
     ]
    }
   ],
   "source": [
    "P  = ['BC', 'BC', 'BA', 'BB', 'BB', 'CA', 'AB', 'CB', 'BA', 'BB']\n",
    "ex = ['V20', 'S12', 'S16', 'S18', 'S20', 'D16', 'D16', 'D18', 'D20', 'L20']\n",
    "\n",
    "# Test implementación con soluciones de las diapos\n",
    "print(SolutionValue(P, ex))"
   ]
  },
  {
   "cell_type": "markdown",
   "metadata": {},
   "source": [
    "## Fuerza Bruta\n",
    "\n",
    "El algoritmo de fuerza bruta consiste en recorrer todas las posibilidades del espacio de posibilidades. La complejidad en el que se puede ejecutar esta exploración es $min(O(H^P), O(P^H))$.\n",
    "\n",
    "Podemos recorrer recursivamente todos los partidos iterando en horarios (H·H·H... P veces, $O(H^P)$) o recorrer todos los horarios iterando por partidos (P·P·P... H veces, $O(P^H)$)."
   ]
  },
  {
   "cell_type": "code",
   "execution_count": 3,
   "metadata": {},
   "outputs": [
    {
     "name": "stdout",
     "output_type": "stream",
     "text": [
      "No usar, el campo de soluciónes es demasiado amplio!\n"
     ]
    }
   ],
   "source": [
    "def BruteForce(P, p_assigned=[], h_assigned=[], verbose=False):\n",
    "    if len(P) == 0:\n",
    "        return SolutionValue(p_assigned, h_assigned), h_assigned\n",
    "    \n",
    "    value = 0\n",
    "    best = []\n",
    "    for h in RATIOS.keys():\n",
    "        if verbose:\n",
    "            print(h)\n",
    "        new_value, new_best = BruteForce(P[1:], p_assigned + [P[0]], h_assigned + [h])\n",
    "        if value < new_value:\n",
    "            value, best = new_value, new_best\n",
    "            \n",
    "    return new_value, new_best\n",
    "\n",
    "print(\"No usar, el campo de soluciónes es demasiado amplio!\")"
   ]
  },
  {
   "cell_type": "markdown",
   "metadata": {},
   "source": [
    "## Voraz\n",
    "\n",
    "Hemos demostrado que la solución óptima pasa por asignar 1 único partido por franja horaria. Es decir, queremos encontrar una permutación de la lista de horarios que maximice el valor de la audiencia. Esto se puede hacer de forma trivial, asignando por orden los partidos de mayor valor a los horarios de mayor audiencia.\n",
    "\n",
    "Este algoritmo se puede ejecutar en $O(n·log(n))$, la complejidad del algoritmo sorted que utiliza Python (Una mezcla de merge sort e insertion sort que mejora en rendimiento en los mejores casos a complejidad lineal)."
   ]
  },
  {
   "cell_type": "code",
   "execution_count": 4,
   "metadata": {},
   "outputs": [
    {
     "name": "stdout",
     "output_type": "stream",
     "text": [
      "7.2425\n"
     ]
    }
   ],
   "source": [
    "def Greedy(P):\n",
    "    games = sorted(list(P), key = lambda i : PointValue(i), reverse=True)\n",
    "    times = sorted(list(RATIOS.keys()), key = lambda i : RATIOS[i], reverse=True)\n",
    "    \n",
    "    return games, times\n",
    "\n",
    "partidos, horarios = Greedy(P)\n",
    "print(SolutionValue(partidos, horarios))"
   ]
  },
  {
   "cell_type": "code",
   "execution_count": null,
   "metadata": {},
   "outputs": [],
   "source": []
  }
 ],
 "metadata": {
  "kernelspec": {
   "display_name": "Python 3",
   "language": "python",
   "name": "python3"
  },
  "language_info": {
   "codemirror_mode": {
    "name": "ipython",
    "version": 3
   },
   "file_extension": ".py",
   "mimetype": "text/x-python",
   "name": "python",
   "nbconvert_exporter": "python",
   "pygments_lexer": "ipython3",
   "version": "3.6.6"
  }
 },
 "nbformat": 4,
 "nbformat_minor": 2
}
